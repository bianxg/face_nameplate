{
 "cells": [
  {
   "cell_type": "markdown",
   "metadata": {},
   "source": [
    "# Inference Demo for ArcFace models\n",
    "\n",
    "## Overview\n",
    "This notebook can be used for inference on ArcFace ONNX models. The demo shows how to use the trained models to do inference in MXNet.\n",
    "\n",
    "## Models supported\n",
    "* LResNet100E-IR (ResNet100 backend with ArcFace loss)\n",
    "\n",
    "## Prerequisites\n",
    "The following packages need to be installed before proceeding:\n",
    "* Protobuf compiler - `sudo apt-get install protobuf-compiler libprotoc-dev` (required for ONNX. This will work for any linux system. For detailed installation guidelines head over to [ONNX documentation](https://github.com/onnx/onnx#installation))\n",
    "* ONNX - `pip install onnx`\n",
    "* MXNet - `pip install mxnet-cu90mkl --pre -U` (tested on this version GPU, can use other versions. `--pre` indicates a pre build of MXNet which is required here for ONNX version compatibility. `-U` uninstalls any existing MXNet version allowing for a clean install)\n",
    "* numpy - `pip install numpy`\n",
    "* matplotlib - `pip install matplotlib`\n",
    "* OpenCV - `pip install opencv-python`\n",
    "* Scikit-learn - `pip install scikit-learn`\n",
    "* EasyDict - `pip install easydict`\n",
    "* Scikit-image - `pip install scikit-image`\n",
    "* ONNX Runtime - `pip install onnxruntime`\n",
    "\n",
    "Also the following scripts and folders (included in the repo) must be present in the same folder as this notebook:\n",
    "* `mtcnn_detector.py` (Performs face detection as a part of preprocessing)\n",
    "* `helper.py` (helper script for face detection)\n",
    "\n",
    "In order to do inference with a python script:\n",
    "* Generate the script : In Jupyter Notebook browser, go to File -> Download as -> Python (.py)\n",
    "* Run the script: `python arcface_inference.py`"
   ]
  },
  {
   "cell_type": "markdown",
   "metadata": {},
   "source": [
    "### Import dependencies\n",
    "Verify that all dependencies are installed using the cell below. Continue if no errors encountered, warnings can be ignored."
   ]
  },
  {
   "cell_type": "code",
   "execution_count": null,
   "metadata": {},
   "outputs": [],
   "source": [
    "import cv2\n",
    "import sys\n",
    "import numpy as np\n",
    "import mxnet as mx\n",
    "import os\n",
    "from __future__ import absolute_import\n",
    "from __future__ import division\n",
    "from __future__ import print_function\n",
    "\n",
    "from scipy import misc\n",
    "import random\n",
    "import sklearn\n",
    "from sklearn.decomposition import PCA\n",
    "from time import sleep\n",
    "from easydict import EasyDict as edict\n",
    "from mtcnn_detector import MtcnnDetector\n",
    "from skimage import transform as trans\n",
    "import matplotlib.pyplot as plt\n",
    "from mxnet.contrib.onnx.onnx2mx.import_model import import_model\n",
    "import onnxruntime as ort"
   ]
  },
  {
   "cell_type": "markdown",
   "metadata": {},
   "source": [
    "### Load pretrained model\n",
    "`get_model()` : Loads ONNX model into MXNet symbols and params, defines model using symbol file and binds parameters to the model using params file."
   ]
  },
  {
   "cell_type": "code",
   "execution_count": null,
   "metadata": {},
   "outputs": [],
   "source": [
    "def get_model(ctx, model):\n",
    "    image_size = (112,112)\n",
    "    # Import ONNX model\n",
    "    sym, arg_params, aux_params = import_model(model)\n",
    "    # Define and binds parameters to the network\n",
    "    model = mx.mod.Module(symbol=sym, context=ctx, label_names = None)\n",
    "    model.bind(data_shapes=[('data', (1, 3, image_size[0], image_size[1]))])\n",
    "    model.set_params(arg_params, aux_params)\n",
    "    return model"
   ]
  },
  {
   "cell_type": "markdown",
   "metadata": {},
   "source": [
    "### Load ONNX model using ONNX Runtime\n",
    "The following function loads an ONNX model using ONNX Runtime, which supports quantized models."
   ]
  },
  {
   "cell_type": "code",
   "execution_count": null,
   "metadata": {},
   "outputs": [],
   "source": [
    "def get_onnx_model(model_path):\n",
    "    # Create ONNX Runtime session\n",
    "    sess_options = ort.SessionOptions()\n",
    "    # Set graph optimization level\n",
    "    sess_options.graph_optimization_level = ort.GraphOptimizationLevel.ORT_ENABLE_ALL\n",
    "    # Check available providers\n",
    "    providers = ['CUDAExecutionProvider', 'CPUExecutionProvider']\n",
    "    # Create session\n",
    "    session = ort.InferenceSession(model_path, sess_options, providers=providers)\n",
    "    return session"
   ]
  },
  {
   "cell_type": "markdown",
   "metadata": {},
   "source": [
    "### Face detector & alignment\n",
    "A pretrained face detection & alignment model [MTCNN detector](https://kpzhang93.github.io/MTCNN_face_detection_alignment/index.html) is used here as a part of the preprocessing step. The input image is passed through the detector to obtain an aligned image of the face in the input. The pretrained models reside in the folder `mtcnn-model` and the scripts `mtcnn_detector.py` and `helper.py` contain code for doing inference on those models."
   ]
  },
  {
   "cell_type": "markdown",
   "metadata": {},
   "source": [
    "### Download pre-trained face detection models"
   ]
  },
  {
   "cell_type": "code",
   "execution_count": null,
   "metadata": {},
   "outputs": [],
   "source": [
    "for i in range(4):\n",
    "    mx.test_utils.download(dirname='mtcnn-model', url='https://s3.amazonaws.com/onnx-model-zoo/arcface/mtcnn-model/det{}-0001.params'.format(i+1))\n",
    "    mx.test_utils.download(dirname='mtcnn-model', url='https://s3.amazonaws.com/onnx-model-zoo/arcface/mtcnn-model/det{}-symbol.json'.format(i+1))\n",
    "    mx.test_utils.download(dirname='mtcnn-model', url='https://s3.amazonaws.com/onnx-model-zoo/arcface/mtcnn-model/det{}.caffemodel'.format(i+1))\n",
    "    mx.test_utils.download(dirname='mtcnn-model', url='https://s3.amazonaws.com/onnx-model-zoo/arcface/mtcnn-model/det{}.prototxt'.format(i+1))"
   ]
  },
  {
   "cell_type": "markdown",
   "metadata": {},
   "source": [
    "### Configure face detection model for preprocessing"
   ]
  },
  {
   "cell_type": "code",
   "execution_count": null,
   "metadata": {},
   "outputs": [],
   "source": [
    "# Determine and set context\n",
    "if len(mx.test_utils.list_gpus())==0:\n",
    "    ctx = mx.cpu()\n",
    "else:\n",
    "    ctx = mx.gpu(0)\n",
    "# Configure face detector\n",
    "det_threshold = [0.6,0.7,0.8]\n",
    "mtcnn_path = os.path.join(os.path.dirname('__file__'), 'mtcnn-model')\n",
    "detector = MtcnnDetector(model_folder=mtcnn_path, ctx=ctx, num_worker=1, accurate_landmark = True, threshold=det_threshold)"
   ]
  },
  {
   "cell_type": "markdown",
   "metadata": {},
   "source": [
    "### Preprocess images\n",
    "\n",
    "In order to input only face pixels into the network, all input images are passed through a pretrained face detection and alignment model as described above. The output of this model are landmark points and a bounding box corresponding to the face in the image. Using this output, the image is processed using affine transforms to generate the aligned face images which are input to the network. The functions performing this is defined below.\n",
    "\n",
    "`preprocess()` : Takes output of face detector (bounding box and landmark points for face in the image) as input and generates aligned face images\n",
    "\n",
    "`get_input()` : Passes input images through the face detector, and returns aligned face images generated by `preprocess()`"
   ]
  },
  {
   "cell_type": "code",
   "execution_count": null,
   "metadata": {},
   "outputs": [],
   "source": [
    "def preprocess(img, bbox=None, landmark=None, **kwargs):\n",
    "    M = None\n",
    "    image_size = []\n",
    "    str_image_size = kwargs.get('image_size', '')\n",
    "    # Assert input shape\n",
    "    if len(str_image_size)>0:\n",
    "        image_size = [int(x) for x in str_image_size.split(',')]\n",
    "        if len(image_size)==1:\n",
    "            image_size = [image_size[0], image_size[0]]\n",
    "        assert len(image_size)==2\n",
    "        assert image_size[0]==112\n",
    "        assert image_size[0]==112 or image_size[1]==96\n",
    "    \n",
    "    # Do alignment using landmark points\n",
    "    if landmark is not None:\n",
    "        assert len(image_size)==2\n",
    "        src = np.array([\n",
    "          [30.2946, 51.6963],\n",
    "          [65.5318, 51.5014],\n",
    "          [48.0252, 71.7366],\n",
    "          [33.5493, 92.3655],\n",
    "          [62.7299, 92.2041] ], dtype=np.float32 )\n",
    "        if image_size[1]==112:\n",
    "            src[:,0] += 8.0\n",
    "        dst = landmark.astype(np.float32)\n",
    "        tform = trans.SimilarityTransform()\n",
    "        tform.estimate(dst, src)\n",
    "        M = tform.params[0:2,:]\n",
    "        assert len(image_size)==2\n",
    "        warped = cv2.warpAffine(img,M,(image_size[1],image_size[0]), borderValue = 0.0)\n",
    "        return warped\n",
    "    \n",
    "    # If no landmark points available, do alignment using bounding box. If no bounding box available use center crop\n",
    "    if M is None:\n",
    "        if bbox is None:\n",
    "            det = np.zeros(4, dtype=np.int32)\n",
    "            det[0] = int(img.shape[1]*0.0625)\n",
    "            det[1] = int(img.shape[0]*0.0625)\n",
    "            det[2] = img.shape[1] - det[0]\n",
    "            det[3] = img.shape[0] - det[1]\n",
    "        else:\n",
    "            det = bbox\n",
    "        margin = kwargs.get('margin', 44)\n",
    "        bb = np.zeros(4, dtype=np.int32)\n",
    "        bb[0] = np.maximum(det[0]-margin/2, 0)\n",
    "        bb[1] = np.maximum(det[1]-margin/2, 0)\n",
    "        bb[2] = np.minimum(det[2]+margin/2, img.shape[1])\n",
    "        bb[3] = np.minimum(det[3]+margin/2, img.shape[0])\n",
    "        ret = img[bb[1]:bb[3],bb[0]:bb[2],:]\n",
    "        if len(image_size)>0:\n",
    "            ret = cv2.resize(ret, (image_size[1], image_size[0]))\n",
    "        return ret\n",
    "    \n",
    "def get_input(detector,face_img):\n",
    "    # Pass input images through face detector\n",
    "    ret = detector.detect_face(face_img, det_type = 0)\n",
    "    if ret is None:\n",
    "        return None\n",
    "    bbox, points = ret\n",
    "    if bbox.shape[0]==0:\n",
    "        return None\n",
    "    bbox = bbox[0,0:4]\n",
    "    points = points[0,:].reshape((2,5)).T\n",
    "    # Call preprocess() to generate aligned images\n",
    "    nimg = preprocess(face_img, bbox, points, image_size='112,112')\n",
    "    nimg = cv2.cvtColor(nimg, cv2.COLOR_BGR2RGB)\n",
    "    aligned = np.transpose(nimg, (2,0,1))\n",
    "    return aligned"
   ]
  },
  {
   "cell_type": "markdown",
   "metadata": {},
   "source": [
    "### Predict\n",
    "`get_feature()` : Performs forward pass on the data `aligned` using `model` and returns the embedding"
   ]
  },
  {
   "cell_type": "code",
   "execution_count": null,
   "metadata": {},
   "outputs": [],
   "source": [
    "def get_feature(model, aligned):\n",
    "    # Check if model is ONNX Runtime session or MXNet module\n",
    "    if isinstance(model, ort.InferenceSession):\n",
    "        # ONNX Runtime inference\n",
    "        input_blob = np.expand_dims(aligned, axis=0).astype(np.float32)\n",
    "        # Get input name (should be 'data' for ArcFace model)\n",
    "        input_name = model.get_inputs()[0].name\n",
    "        # Run inference\n",
    "        outputs = model.run(None, {input_name: input_blob})\n",
    "        embedding = outputs[0][0]  # First output, first batch\n",
    "    else:\n",
    "        # Original MXNet inference\n",
    "        input_blob = np.expand_dims(aligned, axis=0)\n",
    "        data = mx.nd.array(input_blob)\n",
    "        db = mx.io.DataBatch(data=(data,))\n",
    "        model.forward(db, is_train=False)\n",
    "        embedding = model.get_outputs()[0].asnumpy()\n",
    "        embedding = embedding[0]  # First batch\n",
    "    \n",
    "    # Normalize and flatten embedding\n",
    "    embedding = sklearn.preprocessing.normalize(embedding.reshape(1, -1)).flatten()\n",
    "    return embedding"
   ]
  },
  {
   "cell_type": "markdown",
   "metadata": {},
   "source": [
    "### Download input images and prepare ONNX model"
   ]
  },
  {
   "cell_type": "code",
   "execution_count": null,
   "metadata": {},
   "outputs": [],
   "source": [
    "# Download first image\n",
    "#mx.test_utils.download('https://s3.amazonaws.com/onnx-model-zoo/arcface/player1.jpg')\n",
    "# Download second image\n",
    "#mx.test_utils.download('https://s3.amazonaws.com/onnx-model-zoo/arcface/player2.jpg')\n",
    "# Download onnx model\n",
    "#mx.test_utils.download('https://s3.amazonaws.com/onnx-model-zoo/arcface/resnet100.onnx')\n",
    "# Path to ONNX model\n",
    "#model_name = 'resnet100.onnx'\n",
    "model_name = '../models/arcfaceresnet100-8.onnx'"
   ]
  },
  {
   "cell_type": "code",
   "execution_count": null,
   "metadata": {},
   "outputs": [],
   "source": [
    "# Load ONNX model using ONNX Runtime (for quantized models)\n",
    "model = get_onnx_model(model_name)\n",
    "# If you want to use the original MXNet method, comment out the line above and uncomment the line below\n",
    "# model = get_model(ctx, model_name)"
   ]
  },
  {
   "cell_type": "markdown",
   "metadata": {},
   "source": [
    "### Generate predictions\n",
    "Two face images are passed through the network sequentially to generate embedding vectors for each. The squared distance and cosine similarity between the embedding vectors are computed and displayed. Images containing face of a single person will have low distance and high similarity and vice-versa. The distance values are in [0,4) and similarity values in [-1,1]."
   ]
  },
  {
   "cell_type": "code",
   "execution_count": null,
   "metadata": {},
   "outputs": [],
   "source": [
    "# Load first image\n",
    "img1 = cv2.imread('../images/txh.jpg')\n",
    "# Display first image\n",
    "plt.imshow(cv2.cvtColor(img1,cv2.COLOR_BGR2RGB))\n",
    "plt.show()"
   ]
  },
  {
   "cell_type": "code",
   "execution_count": null,
   "metadata": {},
   "outputs": [],
   "source": [
    "# Preprocess first image\n",
    "pre1 = get_input(detector,img1)\n",
    "# Display preprocessed image\n",
    "plt.imshow(np.transpose(pre1,(1,2,0)))\n",
    "plt.show()\n",
    "# Get embedding of first image\n",
    "out1 = get_feature(model,pre1)"
   ]
  },
  {
   "cell_type": "code",
   "execution_count": null,
   "metadata": {},
   "outputs": [],
   "source": [
    "# Load second image\n",
    "img2 = cv2.imread('../images/bzy.jpg')\n",
    "# Display second image\n",
    "plt.imshow(cv2.cvtColor(img2,cv2.COLOR_BGR2RGB))\n",
    "plt.show()"
   ]
  },
  {
   "cell_type": "code",
   "execution_count": null,
   "metadata": {},
   "outputs": [],
   "source": [
    "# Preprocess second image\n",
    "pre2 = get_input(detector,img2)\n",
    "# Display preprocessed image\n",
    "plt.imshow(np.transpose(pre2,(1,2,0)))\n",
    "plt.show()\n",
    "# Get embedding of second image\n",
    "out2 = get_feature(model,pre2)"
   ]
  },
  {
   "cell_type": "code",
   "execution_count": null,
   "metadata": {},
   "outputs": [],
   "source": [
    "# Compute squared distance between embeddings\n",
    "dist = np.sum(np.square(out1-out2))\n",
    "# Compute cosine similarity between embedddings\n",
    "sim = np.dot(out1, out2.T)\n",
    "# Print predictions\n",
    "print('Distance = %f' %(dist))\n",
    "print('Similarity = %f' %(sim))"
   ]
  },
  {
   "cell_type": "markdown",
   "metadata": {},
   "source": [
    "# Example of Directly Reading Aligned Face Images and Extracting Features"
   ]
  },
  {
   "cell_type": "code",
   "execution_count": null,
   "metadata": {},
   "outputs": [],
   "source": [
    "def process_aligned_face(image_path):\n",
    "    \"\"\"\n",
    "    Directly read aligned face images and process them into the format required by the model\n",
    "    \n",
    "    Args:\n",
    "        image_path: Path to the aligned face image\n",
    "        \n",
    "    Returns:\n",
    "        aligned: Processed face data, a NumPy array with shape (3, 112, 112)\n",
    "    \"\"\"\n",
    "    # Read image\n",
    "    img = cv2.imread(image_path)\n",
    "    \n",
    "    # Ensure image size is 112x112\n",
    "    if img.shape[0] != 112 or img.shape[1] != 112:\n",
    "        img = cv2.resize(img, (112, 112))\n",
    "    \n",
    "    # Convert BGR to RGB\n",
    "    img = cv2.cvtColor(img, cv2.COLOR_BGR2RGB)\n",
    "    \n",
    "    # Transpose dimensions to (channels, height, width)\n",
    "    aligned = np.transpose(img, (2, 0, 1))\n",
    "    \n",
    "    return aligned"
   ]
  },
  {
   "cell_type": "code",
   "execution_count": null,
   "metadata": {},
   "outputs": [],
   "source": [
    "# Example call\n",
    "aligned_face_path = \"../data/faces/txh/face.jpg\"  # Replace with your aligned face image path\n",
    "\n",
    "# Process the aligned face image directly\n",
    "aligned_data = process_aligned_face(aligned_face_path)\n",
    "\n",
    "# Display the processed image\n",
    "plt.imshow(np.transpose(aligned_data, (1, 2, 0)))\n",
    "plt.title(\"Aligned Face\")\n",
    "plt.show()\n",
    "\n",
    "# Load model (assuming the model has been loaded as shown in the code above)\n",
    "# model = get_onnx_model(model_name)\n",
    "\n",
    "# Extract features\n",
    "face_feature = get_feature(model, aligned_data)\n",
    "print(\"Feature vector dimension:\", face_feature.shape)\n",
    "\n",
    "# If you want to compare two faces, you can load another aligned face and calculate similarity\n",
    "aligned_face_path2 = \"../data/faces/bzy/face.jpg\"  # Path to the second aligned face\n",
    "aligned_data2 = process_aligned_face(aligned_face_path2)\n",
    "face_feature2 = get_feature(model, aligned_data2)\n",
    "\n",
    "# Calculate distance and similarity\n",
    "dist = np.sum(np.square(face_feature - face_feature2))\n",
    "sim = np.dot(face_feature, face_feature2.T)\n",
    "\n",
    "print('Distance = %f' %(dist))\n",
    "print('Similarity = %f' %(sim))"
   ]
  },
  {
   "cell_type": "code",
   "execution_count": null,
   "metadata": {},
   "outputs": [],
   "source": []
  }
 ],
 "metadata": {
  "kernelspec": {
   "display_name": "Python 3 (ipykernel)",
   "language": "python",
   "name": "python3"
  },
  "language_info": {
   "codemirror_mode": {
    "name": "ipython",
    "version": 3
   },
   "file_extension": ".py",
   "mimetype": "text/x-python",
   "name": "python",
   "nbconvert_exporter": "python",
   "pygments_lexer": "ipython3",
   "version": "3.9.21"
  }
 },
 "nbformat": 4,
 "nbformat_minor": 4
}
